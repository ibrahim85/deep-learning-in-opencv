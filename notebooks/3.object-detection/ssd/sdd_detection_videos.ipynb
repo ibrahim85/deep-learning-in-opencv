{
 "cells": [
  {
   "cell_type": "code",
   "execution_count": 49,
   "metadata": {},
   "outputs": [],
   "source": [
    "import numpy as np\n",
    "import cv2\n",
    "import time"
   ]
  },
  {
   "cell_type": "code",
   "execution_count": 50,
   "metadata": {},
   "outputs": [],
   "source": [
    "def ssd_detection(video_path, class_names, net, output_path, confidence):\n",
    "    cap = cv2.VideoCapture(video_path)\n",
    "    writer = None\n",
    "    \n",
    "    try:\n",
    "        prop = cv2.CAP_PROP_FRAME_COUNT\n",
    "        total = int(cap.get(prop))\n",
    "        print(\"[INFO] {} total frames in video\".format(total))\n",
    "\n",
    "    except:\n",
    "        print(\"[INFO] could not determine # of frames in video\")\n",
    "        total = -1\n",
    "    \n",
    "    np.random.seed(123)\n",
    "    colors = np.random.randint(0, 255, size=(len(class_names), 3), \n",
    "                               dtype=\"uint8\").astype(\"float\")\n",
    "    \n",
    "    while True:\n",
    "        status_cap, frame = cap.read()\n",
    "        if not status_cap:\n",
    "            break\n",
    "        \n",
    "        h, w = frame.shape[:2]\n",
    "#         tensor = cv2.dnn.blobFromImage(frame, 1.0, (1000, 1000), \n",
    "#                                        (104.0, 177.0, 123.0))\n",
    "        tensor = cv2.dnn.blobFromImage(frame, 1 / 255.0, (416, 416), \n",
    "                                       swapRB=True, crop=False)\n",
    "            \n",
    "        net.setInput(tensor)\n",
    "        start = time.time()\n",
    "        detections = net.forward()\n",
    "        end = time.time()\n",
    "        \n",
    "        for i in range(detections.shape[2]):\n",
    "            confidence_ = detections[0, 0, i, 2]\n",
    "\n",
    "            if confidence_ > confidence:\n",
    "                # extract the index of the class label from the `detections`,\n",
    "                # then compute the (x, y)-coordinates of the bounding box for\n",
    "                # the object\n",
    "                idx = int(detections[0, 0, i, 1])\n",
    "                box = detections[0, 0, i, 3:7] * np.array([w, h, w, h])\n",
    "                (startX, startY, endX, endY) = box.astype(\"int\")\n",
    "\n",
    "                # display the prediction\n",
    "                label = \"{}: {:.2f}%\".format(class_names[idx], confidence_ * 100)\n",
    "                cv2.rectangle(frame, (startX, startY), (endX, endY), \n",
    "                              colors[idx], 2)\n",
    "                y = startY - 15 if startY - 15 > 15 else startY + 15\n",
    "                cv2.putText(frame, label, (startX, y),\n",
    "                            cv2.FONT_HERSHEY_SIMPLEX, 0.5, colors[idx], 2)\n",
    "         \n",
    "        if writer is None:\n",
    "            fourcc = cv2.VideoWriter_fourcc(*\"MJPG\")\n",
    "            writer = cv2.VideoWriter(output_path, fourcc, 30, \n",
    "                                     (frame.shape[1], frame.shape[0]), True)\n",
    "            if total > 0:\n",
    "                elap = (end - start)\n",
    "                print(\"[INFO] single frame took {:.4f} seconds\".format(elap))\n",
    "                print(\"[INFO] estimated total time to finish: {:.4f} seconds\".format(\n",
    "                    elap * total))\n",
    "\n",
    "        writer.write(frame)\n",
    "    writer.release()\n",
    "    cap.release()"
   ]
  },
  {
   "cell_type": "code",
   "execution_count": 51,
   "metadata": {},
   "outputs": [],
   "source": [
    "model_path = \"./model/MobileNetSSD_deploy.caffemodel\"\n",
    "proto_path = \"./model/deploy.prototxt\""
   ]
  },
  {
   "cell_type": "code",
   "execution_count": 52,
   "metadata": {},
   "outputs": [],
   "source": [
    "CONFIDENCE = 0.5"
   ]
  },
  {
   "cell_type": "code",
   "execution_count": 53,
   "metadata": {},
   "outputs": [],
   "source": [
    "class_names = [\"background\", \"aeroplane\", \"bicycle\", \"bird\", \"boat\", \n",
    "               \"bottle\", \"bus\", \"car\", \"cat\", \"chair\", \"cow\", \n",
    "               \"diningtable\", \"dog\", \"horse\", \"motorbike\", \"person\", \n",
    "               \"pottedplant\", \"sheep\", \"sofa\", \"train\", \"tvmonitor\"]"
   ]
  },
  {
   "cell_type": "code",
   "execution_count": 54,
   "metadata": {},
   "outputs": [],
   "source": [
    "ssd = cv2.dnn.readNetFromCaffe(proto_path, model_path)"
   ]
  },
  {
   "cell_type": "code",
   "execution_count": 55,
   "metadata": {},
   "outputs": [
    {
     "name": "stdout",
     "output_type": "stream",
     "text": [
      "[INFO] 1817 total frames in video\n",
      "[INFO] single frame took 0.6198 seconds\n",
      "[INFO] estimated total time to finish: 1126.1889 seconds\n"
     ]
    }
   ],
   "source": [
    "video_path = \"../../../datasets/road_scene.mp4\"\n",
    "output_path = \"./output/ssd_detection_road_scene.avi\"\n",
    "ssd_detection(video_path, class_names, ssd, output_path, confidence=CONFIDENCE)"
   ]
  },
  {
   "cell_type": "code",
   "execution_count": null,
   "metadata": {},
   "outputs": [],
   "source": []
  }
 ],
 "metadata": {
  "kernelspec": {
   "display_name": "Python 3",
   "language": "python",
   "name": "python3"
  },
  "language_info": {
   "codemirror_mode": {
    "name": "ipython",
    "version": 3
   },
   "file_extension": ".py",
   "mimetype": "text/x-python",
   "name": "python",
   "nbconvert_exporter": "python",
   "pygments_lexer": "ipython3",
   "version": "3.7.3"
  }
 },
 "nbformat": 4,
 "nbformat_minor": 2
}

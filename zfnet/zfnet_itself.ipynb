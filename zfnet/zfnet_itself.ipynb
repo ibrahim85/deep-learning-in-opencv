{
 "cells": [
  {
   "cell_type": "code",
   "execution_count": 3,
   "metadata": {},
   "outputs": [],
   "source": [
    "import numpy as np\n",
    "import cv2"
   ]
  },
  {
   "cell_type": "markdown",
   "metadata": {},
   "source": [
    "## The Summary of ZFNet-512"
   ]
  },
  {
   "cell_type": "code",
   "execution_count": 6,
   "metadata": {},
   "outputs": [],
   "source": [
    "def zfnet_summary(net, layer_type=False, layer_shape=False, \n",
    "                    get_flops=False, get_memory=False,\n",
    "                    get_total_time=False, get_layer_time=False):\n",
    "    # check if the model is empty\n",
    "    if net.empty():\n",
    "        print(\"Net is empty\")\n",
    "        return\n",
    "        \n",
    "    # get the types of layers used in the model\n",
    "    if layer_type:\n",
    "        print(\"\\nNet contains:\")\n",
    "        for t in net.getLayerTypes():\n",
    "            print(\"\\t{} layers of type {}\".format(net.getLayersCount(t), t))\n",
    "        \n",
    "    \n",
    "    \n",
    "    # get the tensor shapes for the loaded model and specified input shape\n",
    "    if layer_shape:\n",
    "        layers_ids, in_shapes, out_shapes = net.getLayersShapes([1, 3, 224, 224])\n",
    "        layers_names = net.getLayerNames()\n",
    "        print(\"\\nNet layers shapes: \")\n",
    "        for l in range(len(layers_names)):\n",
    "            in_num, out_num = len(in_shapes[l]), len(out_shapes[l])\n",
    "            print(\"  Layer {} has {} inputs and {} outputs\".format(layers_names[l],\n",
    "                                                                 in_num, out_num))\n",
    "            for i in range(in_num):\n",
    "                print(\"\\tinput #{} has shape {}\".format(i, in_shapes[l][i].flatten()))\n",
    "            for i in range(out_num):\n",
    "                print(\"\\toutput #{} has shape {}\".format(i, out_shapes[l][i].flatten()))\n",
    "            \n",
    "    # compute the number of FLOPs\n",
    "    if get_flops:\n",
    "        print(\"\\ngflops: \", net.getFLOPS((1, 3, 224, 224)) * 1e-9)\n",
    "    \n",
    "    # report the amount of memory consumed for storing weights and intermediate tensors\n",
    "    if get_memory:\n",
    "        w, b = net.getMemoryConsumption((1, 3, 224, 224))\n",
    "        print(\"\\nweights (mb):\", w * 1e-6, \", blobs (mb):\", b * 1e-6)\n",
    "    \n",
    "    # perform a forward pass for a mock input\n",
    "    blob = cv2.dnn.blobFromImage(np.zeros((224, 224, 3), np.uint8), 1, (224, 224))\n",
    "    net.setInput(blob)\n",
    "    net.forward()\n",
    "    \n",
    "    # report the total time\n",
    "    if get_total_time:\n",
    "        total, timings = net.getPerfProfile()\n",
    "        tick2ms = 1000 / cv2.getTickFrequency()\n",
    "        print(\"\\ninference (ms): {:2f}\".format(total * tick2ms))\n",
    "    \n",
    "    # report the per layer inference time\n",
    "    if get_layer_time:\n",
    "        layer_names = net.getLayerNames()\n",
    "        print(\"\\n{: <30} {}\".format(\"LAYER\", \"TIME (ms)\"))\n",
    "        for (i,t) in enumerate(timings):\n",
    "            print(\"{: <30} {:.2f}\".format(layer_names[i], t[0] * tick2ms))"
   ]
  },
  {
   "cell_type": "code",
   "execution_count": 7,
   "metadata": {},
   "outputs": [],
   "source": [
    "model_path = \"./model/model.onnx\"\n",
    "zfnet = cv2.dnn.readNetFromONNX(model_path)"
   ]
  },
  {
   "cell_type": "code",
   "execution_count": 8,
   "metadata": {},
   "outputs": [
    {
     "name": "stdout",
     "output_type": "stream",
     "text": [
      "\n",
      "Net contains:\n",
      "\t5 layers of type Convolution\n",
      "\t3 layers of type InnerProduct\n",
      "\t2 layers of type LRN\n",
      "\t3 layers of type Pooling\n",
      "\t7 layers of type Relu\n",
      "\t1 layers of type Reshape\n",
      "\t1 layers of type Softmax\n",
      "\t1 layers of type __NetInputLayer__\n"
     ]
    }
   ],
   "source": [
    "zfnet_summary(zfnet, layer_type=True)"
   ]
  },
  {
   "cell_type": "code",
   "execution_count": 9,
   "metadata": {},
   "outputs": [
    {
     "name": "stdout",
     "output_type": "stream",
     "text": [
      "\n",
      "Net layers shapes: \n",
      "  Layer gpu_0/conv1_1 has 1 inputs and 1 outputs\n",
      "\tinput #0 has shape [  1   3 224 224]\n",
      "\toutput #0 has shape [  1   3 224 224]\n",
      "  Layer gpu_0/conv1_2 has 1 inputs and 1 outputs\n",
      "\tinput #0 has shape [  1   3 224 224]\n",
      "\toutput #0 has shape [  1  96 109 109]\n",
      "  Layer gpu_0/norm1_1 has 1 inputs and 1 outputs\n",
      "\tinput #0 has shape [  1  96 109 109]\n",
      "\toutput #0 has shape [  1  96 109 109]\n",
      "  Layer gpu_0/pool1_1 has 1 inputs and 1 outputs\n",
      "\tinput #0 has shape [  1  96 109 109]\n",
      "\toutput #0 has shape [  1  96 109 109]\n",
      "  Layer gpu_0/conv2_1 has 1 inputs and 1 outputs\n",
      "\tinput #0 has shape [  1  96 109 109]\n",
      "\toutput #0 has shape [ 1 96 54 54]\n",
      "  Layer gpu_0/conv2_2 has 1 inputs and 1 outputs\n",
      "\tinput #0 has shape [ 1 96 54 54]\n",
      "\toutput #0 has shape [  1 256  25  25]\n",
      "  Layer gpu_0/norm2_1 has 1 inputs and 1 outputs\n",
      "\tinput #0 has shape [  1 256  25  25]\n",
      "\toutput #0 has shape [  1 256  25  25]\n",
      "  Layer gpu_0/pool2_1 has 1 inputs and 1 outputs\n",
      "\tinput #0 has shape [  1 256  25  25]\n",
      "\toutput #0 has shape [  1 256  25  25]\n",
      "  Layer gpu_0/conv3_1 has 1 inputs and 1 outputs\n",
      "\tinput #0 has shape [  1 256  25  25]\n",
      "\toutput #0 has shape [  1 256  12  12]\n",
      "  Layer gpu_0/conv3_2 has 1 inputs and 1 outputs\n",
      "\tinput #0 has shape [  1 256  12  12]\n",
      "\toutput #0 has shape [  1 512  12  12]\n",
      "  Layer gpu_0/conv4_1 has 1 inputs and 1 outputs\n",
      "\tinput #0 has shape [  1 512  12  12]\n",
      "\toutput #0 has shape [  1 512  12  12]\n",
      "  Layer gpu_0/conv4_2 has 1 inputs and 1 outputs\n",
      "\tinput #0 has shape [  1 512  12  12]\n",
      "\toutput #0 has shape [  1 512  12  12]\n",
      "  Layer gpu_0/conv5_1 has 1 inputs and 1 outputs\n",
      "\tinput #0 has shape [  1 512  12  12]\n",
      "\toutput #0 has shape [  1 512  12  12]\n",
      "  Layer gpu_0/conv5_2 has 1 inputs and 1 outputs\n",
      "\tinput #0 has shape [  1 512  12  12]\n",
      "\toutput #0 has shape [  1 512  12  12]\n",
      "  Layer gpu_0/pool5_1 has 1 inputs and 1 outputs\n",
      "\tinput #0 has shape [  1 512  12  12]\n",
      "\toutput #0 has shape [  1 512  12  12]\n",
      "  Layer OC2_DUMMY_0 has 1 inputs and 1 outputs\n",
      "\tinput #0 has shape [  1 512  12  12]\n",
      "\toutput #0 has shape [  1 512   6   6]\n",
      "  Layer gpu_0/fc6_1 has 1 inputs and 1 outputs\n",
      "\tinput #0 has shape [  1 512   6   6]\n",
      "\toutput #0 has shape [    1 18432]\n",
      "  Layer gpu_0/fc6_2 has 1 inputs and 1 outputs\n",
      "\tinput #0 has shape [    1 18432]\n",
      "\toutput #0 has shape [   1 4096]\n",
      "  Layer gpu_0/fc7_1 has 1 inputs and 1 outputs\n",
      "\tinput #0 has shape [   1 4096]\n",
      "\toutput #0 has shape [   1 4096]\n",
      "  Layer gpu_0/fc7_2 has 1 inputs and 1 outputs\n",
      "\tinput #0 has shape [   1 4096]\n",
      "\toutput #0 has shape [   1 1024]\n",
      "  Layer gpu_0/pred_1 has 1 inputs and 1 outputs\n",
      "\tinput #0 has shape [   1 1024]\n",
      "\toutput #0 has shape [   1 1024]\n",
      "  Layer gpu_0/softmax_1 has 1 inputs and 1 outputs\n",
      "\tinput #0 has shape [   1 1024]\n",
      "\toutput #0 has shape [   1 1000]\n"
     ]
    }
   ],
   "source": [
    "zfnet_summary(zfnet, layer_shape=True)"
   ]
  },
  {
   "cell_type": "code",
   "execution_count": 11,
   "metadata": {},
   "outputs": [
    {
     "name": "stdout",
     "output_type": "stream",
     "text": [
      "\n",
      "gflops:  3.0579383100000004\n",
      "\n",
      "weights (mb): 349.002144 , blobs (mb): 19.442111999999998\n"
     ]
    }
   ],
   "source": [
    "zfnet_summary(zfnet, get_flops=True, get_memory=True)"
   ]
  },
  {
   "cell_type": "code",
   "execution_count": 12,
   "metadata": {},
   "outputs": [
    {
     "name": "stdout",
     "output_type": "stream",
     "text": [
      "\n",
      "inference (ms): 496.575014\n",
      "\n",
      "LAYER                          TIME (ms)\n",
      "gpu_0/conv1_1                  39.05\n",
      "gpu_0/conv1_2                  0.00\n",
      "gpu_0/norm1_1                  29.99\n",
      "gpu_0/pool1_1                  4.83\n",
      "gpu_0/conv2_1                  124.64\n",
      "gpu_0/conv2_2                  0.00\n",
      "gpu_0/norm2_1                  2.88\n",
      "gpu_0/pool2_1                  1.48\n",
      "gpu_0/conv3_1                  88.30\n",
      "gpu_0/conv3_2                  0.00\n",
      "gpu_0/conv4_1                  43.45\n",
      "gpu_0/conv4_2                  0.00\n",
      "gpu_0/conv5_1                  114.16\n",
      "gpu_0/conv5_2                  0.00\n",
      "gpu_0/pool5_1                  3.38\n",
      "OC2_DUMMY_0                    0.01\n",
      "gpu_0/fc6_1                    42.08\n",
      "gpu_0/fc6_2                    0.00\n",
      "gpu_0/fc7_1                    1.75\n",
      "gpu_0/fc7_2                    0.00\n",
      "gpu_0/pred_1                   0.51\n",
      "gpu_0/softmax_1                0.05\n"
     ]
    }
   ],
   "source": [
    "zfnet_summary(zfnet, get_total_time=True, get_layer_time=True)"
   ]
  },
  {
   "cell_type": "code",
   "execution_count": null,
   "metadata": {},
   "outputs": [],
   "source": []
  }
 ],
 "metadata": {
  "kernelspec": {
   "display_name": "Python 3",
   "language": "python",
   "name": "python3"
  },
  "language_info": {
   "codemirror_mode": {
    "name": "ipython",
    "version": 3
   },
   "file_extension": ".py",
   "mimetype": "text/x-python",
   "name": "python",
   "nbconvert_exporter": "python",
   "pygments_lexer": "ipython3",
   "version": "3.7.3"
  }
 },
 "nbformat": 4,
 "nbformat_minor": 2
}
